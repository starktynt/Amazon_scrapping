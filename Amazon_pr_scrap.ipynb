{
 "cells": [
  {
   "cell_type": "code",
   "execution_count": 256,
   "metadata": {},
   "outputs": [
    {
     "name": "stdout",
     "output_type": "stream",
     "text": [
      "Requirement already satisfied: beautifulsoup4 in c:\\users\\mudit\\anaconda3\\lib\\site-packages (4.8.0)\n",
      "Requirement already satisfied: soupsieve>=1.2 in c:\\users\\mudit\\anaconda3\\lib\\site-packages (from beautifulsoup4) (1.9.3)\n",
      "Requirement already satisfied: html5lib in c:\\users\\mudit\\anaconda3\\lib\\site-packages (1.0.1)\n",
      "Requirement already satisfied: webencodings in c:\\users\\mudit\\anaconda3\\lib\\site-packages (from html5lib) (0.5.1)\n",
      "Requirement already satisfied: six>=1.9 in c:\\users\\mudit\\anaconda3\\lib\\site-packages (from html5lib) (1.12.0)\n"
     ]
    }
   ],
   "source": [
    "#installing required libraries\n",
    "!pip install beautifulsoup4\n",
    "!pip install html5lib"
   ]
  },
  {
   "cell_type": "code",
   "execution_count": 257,
   "metadata": {},
   "outputs": [
    {
     "name": "stdout",
     "output_type": "stream",
     "text": [
      "input the name of product you want to scrapsunglasses\n"
     ]
    }
   ],
   "source": [
    "#import\n",
    "from bs4 import BeautifulSoup\n",
    "import requests\n",
    "import re\n",
    "import pandas as pd\n",
    "#our line of input , the only input for the full scrapping needed\n",
    "pageNo = input(\"input the name of product you want to scrap\")\n",
    "#get url\n",
    "def get_data(pageNo): \n",
    "    #faking agent\n",
    "    headers = {\"User-Agent\":\"Mozilla/5.0 (Windows NT 10.0; Win64; x64; rv:66.0) Gecko/20100101 Firefox/66.0\", \"Accept-Encoding\":\"gzip, deflate\", \"Accept\":\"text/html,application/xhtml+xml,application/xml;q=0.9,*/*;q=0.8\", \"DNT\":\"1\",\"Connection\":\"close\", \"Upgrade-Insecure-Requests\":\"1\"}\n",
    "\n",
    "    r = requests.get(\"https://www.amazon.in/s?k=\"+pageNo+ \"&ref=nb_sb_noss_2\", headers=headers)#, proxies=proxies)\n",
    "    content = r.content\n",
    "    #starting building parse tree\n",
    "    soup = BeautifulSoup(content,'html.parser')\n",
    "    #print(soup)\n",
    "\n",
    "    alls = []\n",
    "    for d in soup.findAll('div', attrs={'class':\"sg-col-inner\"}):\n",
    "        \n",
    "        #print(d)a-row a-size-base a-color-secondary\n",
    "        name = d.find('span',  attrs={'class':\"a-size-base-plus a-color-base a-text-normal\"})\n",
    "        #print(name)\n",
    "        #n = d.find('span',  attrs={'class':\"a-size-base-plus a-color-base a-text-normal\"}).get_text()\n",
    "        #print(n)\n",
    "        image = d.find('img', attrs={'class':\"s-image\"})\n",
    "        #print(author['src'])\n",
    "        rating = d.find('span', attrs={'class':'a-icon-alt'})\n",
    "        \n",
    "        price = d.find('span', attrs={'class':\"a-price-whole\"})\n",
    "\n",
    "        all=[]\n",
    "\n",
    "        if name is not None:\n",
    "          \n",
    "            n = d.find('span',  attrs={'class':\"a-size-base-plus a-color-base a-text-normal\"}).get_text()\n",
    "            all.append(n)\n",
    "        else:\n",
    "            all.append(\"\")\n",
    "        if image is not None:\n",
    "            all.append(image['src'])\n",
    "        if rating is not None:\n",
    "           \n",
    "            all.append(rating.text)\n",
    "        else:\n",
    "            all.append('')\n",
    "\n",
    "        \n",
    "        if price is not None:\n",
    "   \n",
    "            all.append(price.text)\n",
    "        else:\n",
    "            all.append('')\n",
    "        alls.append(all)    \n",
    "    return alls\n",
    "#print()\n",
    "results = get_data(pageNo)\n",
    "#print(results)"
   ]
  },
  {
   "cell_type": "code",
   "execution_count": 261,
   "metadata": {},
   "outputs": [],
   "source": [
    "\n",
    "#dataframe construction\n",
    "df = pd.DataFrame(results, columns=['Name','Image_add','Rating', 'Price'])\n",
    "#df.head()\n",
    "\n",
    "#for csv\n",
    "csv = df.to_csv('amazon_products.csv', index=False, encoding='utf-8')\n"
   ]
  },
  {
   "cell_type": "code",
   "execution_count": 264,
   "metadata": {},
   "outputs": [],
   "source": [
    "#dropping Null columns\n",
    "df = df.dropna()\n",
    "final = df.to_json()"
   ]
  },
  {
   "cell_type": "code",
   "execution_count": 265,
   "metadata": {},
   "outputs": [
    {
     "name": "stdout",
     "output_type": "stream",
     "text": [
      "{\"Name\":{\"0\":\"Ranveer Singh RETRO VINTAGE Round Flap Suglasses (VI-SG-95517-Parent)\",\"1\":\"Ranveer Singh UV 400 Protected Retro Vintage Oversized Striped Unisex Sunglasses\",\"2\":\"Polarized Sunglasses Men Women Retro Flat Top Square Driving Glasses\",\"3\":\"Polarized Clip on Sunglasses Frameless Flip Up Square Style Lens for Prescription Glasses\",\"4\":\"Golden-Black UV Protection Octagonal Sunglasses\\/Frame For Men & Women\",\"5\":\"Combo Pack of 5 Aviator Unisex Sunglasses With Pouch (Multicolor | Free Size | UV Protection)\",\"6\":\"Polarized Aviator Black Sunglasses with TAC Material Sunglasses For Men Latest and Sunglasses For men Stylish Wayfarer Sunglasses for Medium size \\u0927\\u0942\\u092a \\u0915\\u093e \\u091a\\u0936\\u094d\\u092e\\u093e\",\"7\":\"UV protected Square Men's Sunglasses (P357BK1|41 millimeters|Smoke (Grey\\/Black))\",\"8\":\"Branded Smooth Leg Covers Lightweight Square Kabir Singh Sunglasses for Men\",\"9\":\"Branded Metal Body Square Inspired from Kabir Singh Sunglass for Men and Boys\",\"10\":\"Wayfarer Unisex Sunglasses Combo with UV Protection (Black and Green, Free Size)\",\"11\":\"New Arrival Special Collection of Festive Seasons Black Color Unisex UV Protected Avaitors, Aviators and s Sunglasses Combo Ideal for Boys, Girls, Men, Women (58-691F-ZTBC)\",\"12\":\"\\u2122 Round Unisex Sunglasses Round Sunglasses For Men And Women\",\"13\":\"Matt Finish Club Master Wayfarer Uv Protected Unisex Sunglasses(Doit-006| 53| Frame-Black)\",\"14\":\"Firebird with Device Polarized Aviator Men's Sunglasses(IP-SG01B|Black)\",\"15\":\"UV protected Square Men's Sunglasses (P358BK2|57 millimeters|Black)\",\"16\":\"Round Steampunk Sunglasses for Men & Women, Retro Designer Eyewear with Polarized-Metal Lenses and UV400 Protection, Suitable for All Face Shapes\",\"17\":\"Square Metal Body Kabir Singh Sunglass for Men & Boy\",\"18\":\"UV Protected Aviator Unisex Sunglasses\",\"19\":\"Tony stark style Sunglasses Original and Genuine (Gift item) Premium Quality Square\",\"20\":\"Unisex Round Rimless One Piece Fashion Sunglasses\",\"21\":\"Polarized Driving Sunglasses Retro Square UV protection Classic Sun Glasses Men\",\"22\":\"Retro Round Flash Sunglasses Reflective Circle Lens Alloy Eyeglasses Men Women\",\"23\":\"Wayfarer Sunglasses (Black and Blue) (G051PXUS9B)\",\"24\":\"Metal Body Sunglasses Kabir Singh Sunglasses for Men and Women\",\"25\":\"Black and Brown Matt Finish Unisex Sunglasses Combo with UV Protection (Lens-Purple & Brown||Frame-Black\\/Brown||Doit-001-002)\",\"26\":\"Combo of Black Men's Wallet, Sunglasses & Watch | Choose Any one | Brown Wallet, Army Design Wallet, Blue Wallet or Black Wallet\",\"27\":\"latest Modern Trendy ALLU ARJUN Celebrity Stylish Unisex Sunglasses (Large) (Golden-Black)\",\"28\":\"Anti-Reflective Wayfarer Unisex Sunglasses - (NA101|56|White Color Lens)\",\"29\":\"Small Classic Square Polygon Round Men Women Sunglasses\",\"30\":\"Professional Combo Set Of 3. 1 Small Golden Metal Frame With Black Fiber Lens Classic Square Sunglasses And Different Types Of 1 Key-chain And 1 Cap.\",\"31\":\"Stylish Sunglasses 3 Combo Set Of 3 Uv Protect Aviators Unisex Sunglasses & Goggles, (Full Black and Half Black Golden)\",\"32\":\"Black,Brown and Clear Stylish Unisex Sunglasses Combo (Latest Goggles)\",\"33\":\"UV 400 Protection Unisex Sunglasses (aio5, Black) - Pack of 5\",\"34\":\"War (Hindi)\",\"35\":\"Boys' Loose Fit Trackpants (Pack of 5)\",\"36\":\"Iron Man Tony Stark Avengers Infinity War Metallic Stylish Sunglasses for Men and Boys (Silver-SkyBlue) -Large Size\",\"37\":\"Aviator UV 400 Protection Green Glass Golden Frame Sunglasses for Men and Women with Attractive Case\",\"38\":\"Day And Night Vision Sports Unisex Sunglasses (9181)\",\"39\":\"Branded Square Metal Body Kabir Singh Sunglass for Men & Boys\\u2026\",\"40\":\"Aviator UV Protected Unisex Green Sunglasses\",\"41\":\"Men's Aviator and Wayfarer Sunglasses(Black)\",\"42\":\"LATEST BLACK TRENDY FAMOUS BADSHAH | JAS MANAK | SAHIL KHAN SQUARE UNISEX STYLISH SUNGLASSES\",\"43\":\"Polarized Men Women Square Sunglasses Matte Finish\",\"44\":\"Collection Non-Polarized UV-Protected Round Unisex Sunglasses (EYE05, 55, Blue and Black) -Combo Pack of 2\",\"45\":\"UV Protection Round Unisex Sunglasses Pack of 3 (55| Black, Blue, Silver)\",\"46\":\"Analogue Brown Dial Leather Strap Watch with Wallet, Belt and Sunglass Set for Men & Boys\",\"47\":\"Black Baseball Cap, Watch & Sunglasses Combo for Men & Boys.Pack of 3(ny-av-BKW)\",\"48\":\"Retro Square Sunglasses For Men\",\"49\":\"Sunglasses or Eyeglasses Storage Box\",\"50\":\"Iron Man Aviator Steampunk Men's Sunglasses (5.9| Red)\",\"51\":\"Basic Black Aviator Uv-Protected Unisex Sunglasses(Lens-Jet-Black||Frame-Black||SUN-004)\",\"52\":\"Aviator Unisex Sunglasses Combo (Clear)\",\"53\":\"Royal Son Plastic Wayfarer Women's Sunglasses Combo\",\"54\":\"UV Protected Round Unisex Sunglasses with Digital Watch (Black) - Set of 2\",\"55\":\"Sports Men Sunglasses UV 400 Lenses (72, Green)\",\"56\":\"FIREBIRD UV Protected Polarized Protected Square Sunglasses For Men Women Safe Driving (92234)\",\"57\":\"Polarized Clip on Sunglasses Flip up Mirrored Eyeglasses Men Women\",\"58\":\"FIREBIRD UV Protected Polarized TR90 Square Sunglasses Safe Driving Sports (95001)\",\"59\":\"Polarized Sport Sunglasses for Men Women Baseball Running Cycling Fishing Driving Golf\"},\"Image_add\":{\"0\":\"https:\\/\\/m.media-amazon.com\\/images\\/I\\/61sI0Z7wU-L._AC_UL320_.jpg\",\"1\":\"https:\\/\\/m.media-amazon.com\\/images\\/I\\/61hlEA+0B8L._AC_UL320_.jpg\",\"2\":\"https:\\/\\/m.media-amazon.com\\/images\\/I\\/61LOixkEM5L._AC_UL320_.jpg\",\"3\":\"https:\\/\\/m.media-amazon.com\\/images\\/I\\/61YoQNhkhSL._AC_UL320_.jpg\",\"4\":\"https:\\/\\/m.media-amazon.com\\/images\\/I\\/51Rd08dotmL._AC_UL320_.jpg\",\"5\":\"https:\\/\\/m.media-amazon.com\\/images\\/I\\/71QsEZVEzHL._AC_UL320_.jpg\",\"6\":\"https:\\/\\/m.media-amazon.com\\/images\\/I\\/511ptk4SNrL._AC_UL320_.jpg\",\"7\":\"https:\\/\\/m.media-amazon.com\\/images\\/I\\/61aeNPe+S6L._AC_UL320_.jpg\",\"8\":\"https:\\/\\/m.media-amazon.com\\/images\\/I\\/515gKnUgwpL._AC_UL320_.jpg\",\"9\":\"https:\\/\\/m.media-amazon.com\\/images\\/I\\/51uYuk9R8pL._AC_UL320_.jpg\",\"10\":\"https:\\/\\/m.media-amazon.com\\/images\\/I\\/71CxtNKeTlL._AC_UL320_.jpg\",\"11\":\"https:\\/\\/m.media-amazon.com\\/images\\/I\\/41KuOn0Eg8L._AC_UL320_.jpg\",\"12\":\"https:\\/\\/m.media-amazon.com\\/images\\/I\\/41WiTprorPL._AC_UL320_.jpg\",\"13\":\"https:\\/\\/m.media-amazon.com\\/images\\/I\\/712Dvez61SL._AC_UL320_.jpg\",\"14\":\"https:\\/\\/m.media-amazon.com\\/images\\/I\\/51O3+tVUWpL._AC_UL320_.jpg\",\"15\":\"https:\\/\\/m.media-amazon.com\\/images\\/I\\/81GqizXc2OL._AC_UL320_.jpg\",\"16\":\"https:\\/\\/m.media-amazon.com\\/images\\/I\\/31WilZa0lQL._AC_UL320_.jpg\",\"17\":\"https:\\/\\/m.media-amazon.com\\/images\\/I\\/51fWneI5CvL._AC_UL320_.jpg\",\"18\":\"https:\\/\\/m.media-amazon.com\\/images\\/I\\/61P5oi47ErL._AC_UL320_.jpg\",\"19\":\"https:\\/\\/m.media-amazon.com\\/images\\/I\\/51ABGn-qEQL._AC_UL320_.jpg\",\"20\":\"https:\\/\\/m.media-amazon.com\\/images\\/I\\/61h3baJ4ONL._AC_UL320_.jpg\",\"21\":\"https:\\/\\/m.media-amazon.com\\/images\\/I\\/61BNwRcVr0L._AC_UL320_.jpg\",\"22\":\"https:\\/\\/m.media-amazon.com\\/images\\/I\\/61qEcWTkB9L._AC_UL320_.jpg\",\"23\":\"https:\\/\\/m.media-amazon.com\\/images\\/I\\/71E+Dd7-AUL._AC_UL320_.jpg\",\"24\":\"https:\\/\\/m.media-amazon.com\\/images\\/I\\/51H7FNOn8dL._AC_UL320_.jpg\",\"25\":\"https:\\/\\/m.media-amazon.com\\/images\\/I\\/71FrVGy0J+L._AC_UL320_.jpg\",\"26\":\"https:\\/\\/m.media-amazon.com\\/images\\/I\\/91vpAUlelzL._AC_UL320_.jpg\",\"27\":\"https:\\/\\/m.media-amazon.com\\/images\\/I\\/31-yghZBaPL._AC_UL320_.jpg\",\"28\":\"https:\\/\\/m.media-amazon.com\\/images\\/I\\/61raRJF3xKL._AC_UL320_.jpg\",\"29\":\"https:\\/\\/m.media-amazon.com\\/images\\/I\\/51JzVeHDobL._AC_UL320_.jpg\",\"30\":\"https:\\/\\/m.media-amazon.com\\/images\\/I\\/81UQLra33HL._AC_UL320_.jpg\",\"31\":\"https:\\/\\/m.media-amazon.com\\/images\\/I\\/41ek5PUEp7L._AC_UL320_.jpg\",\"32\":\"https:\\/\\/m.media-amazon.com\\/images\\/I\\/71OFesEpScL._AC_UL320_.jpg\",\"33\":\"https:\\/\\/m.media-amazon.com\\/images\\/I\\/61Emzk-+QGL._AC_UL320_.jpg\",\"34\":\"https:\\/\\/m.media-amazon.com\\/images\\/I\\/912W-lJ1+YL._AC_UL320_.jpg\",\"35\":\"https:\\/\\/m.media-amazon.com\\/images\\/I\\/81+r0BgLTqL._AC_UL320_.jpg\",\"36\":\"https:\\/\\/m.media-amazon.com\\/images\\/I\\/314kGh7sh1L._AC_UL320_.jpg\",\"37\":\"https:\\/\\/m.media-amazon.com\\/images\\/I\\/71lNkD-RGmL._AC_UL320_.jpg\",\"38\":\"https:\\/\\/m.media-amazon.com\\/images\\/I\\/31M1kqs2mgL._AC_UL320_.jpg\",\"39\":\"https:\\/\\/m.media-amazon.com\\/images\\/I\\/61XuoJGN+WL._AC_UL320_.jpg\",\"40\":\"https:\\/\\/m.media-amazon.com\\/images\\/I\\/61P1tW25TEL._AC_UL320_.jpg\",\"41\":\"https:\\/\\/m.media-amazon.com\\/images\\/I\\/71X3u2rsesL._AC_UL320_.jpg\",\"42\":\"https:\\/\\/m.media-amazon.com\\/images\\/I\\/51DQjbN1R6L._AC_UL320_.jpg\",\"43\":\"https:\\/\\/m.media-amazon.com\\/images\\/I\\/41T1pCL1mPL._AC_UL320_.jpg\",\"44\":\"https:\\/\\/m.media-amazon.com\\/images\\/I\\/51ot1SdTtxL._AC_UL320_.jpg\",\"45\":\"https:\\/\\/m.media-amazon.com\\/images\\/I\\/61PTLqd3++L._AC_UL320_.jpg\",\"46\":\"https:\\/\\/m.media-amazon.com\\/images\\/I\\/71gBmI1tP2L._AC_UL320_.jpg\",\"47\":\"https:\\/\\/m.media-amazon.com\\/images\\/I\\/61JRSbGIx8L._AC_UL320_.jpg\",\"48\":\"https:\\/\\/m.media-amazon.com\\/images\\/I\\/51M2+ZHB+SL._AC_UL320_.jpg\",\"49\":\"https:\\/\\/m.media-amazon.com\\/images\\/I\\/71-Rp1EbtRL._AC_UL320_.jpg\",\"50\":\"https:\\/\\/m.media-amazon.com\\/images\\/I\\/61lBCtM1MjL._AC_UL320_.jpg\",\"51\":\"https:\\/\\/m.media-amazon.com\\/images\\/I\\/61AX6WRwTpL._AC_UL320_.jpg\",\"52\":\"https:\\/\\/m.media-amazon.com\\/images\\/I\\/51a-j5MiJkL._AC_UL320_.jpg\",\"53\":\"https:\\/\\/m.media-amazon.com\\/images\\/I\\/71XVQwtg38L._AC_UL320_.jpg\",\"54\":\"https:\\/\\/m.media-amazon.com\\/images\\/I\\/51jlslMDPAL._AC_UL320_.jpg\",\"55\":\"https:\\/\\/m.media-amazon.com\\/images\\/I\\/51igMKYNY3L._AC_UL320_.jpg\",\"56\":\"https:\\/\\/m.media-amazon.com\\/images\\/I\\/61VAOZF2hkL._AC_UL320_.jpg\",\"57\":\"https:\\/\\/m.media-amazon.com\\/images\\/I\\/61jM0cG3wdL._AC_UL320_.jpg\",\"58\":\"https:\\/\\/m.media-amazon.com\\/images\\/I\\/518ZQ8bf2nL._AC_UL320_.jpg\",\"59\":\"https:\\/\\/m.media-amazon.com\\/images\\/I\\/61doR1XbViL._AC_UL320_.jpg\"},\"Rating\":{\"0\":\"5.0 out of 5 stars\",\"1\":\"2.0 out of 5 stars\",\"2\":\"4.2 out of 5 stars\",\"3\":\"4.3 out of 5 stars\",\"4\":\"2.8 out of 5 stars\",\"5\":\"3.5 out of 5 stars\",\"6\":\"4.0 out of 5 stars\",\"7\":\"4.0 out of 5 stars\",\"8\":\"3.2 out of 5 stars\",\"9\":\"3.8 out of 5 stars\",\"10\":\"3.8 out of 5 stars\",\"11\":\"3.2 out of 5 stars\",\"12\":\"3.0 out of 5 stars\",\"13\":\"3.2 out of 5 stars\",\"14\":\"3.8 out of 5 stars\",\"15\":\"4.0 out of 5 stars\",\"16\":\"3.7 out of 5 stars\",\"17\":\"3.7 out of 5 stars\",\"18\":\"3.5 out of 5 stars\",\"19\":\"3.3 out of 5 stars\",\"20\":\"4.1 out of 5 stars\",\"21\":\"4.0 out of 5 stars\",\"22\":\"4.1 out of 5 stars\",\"23\":\"5.0 out of 5 stars\",\"24\":\"3.7 out of 5 stars\",\"25\":\"3.1 out of 5 stars\",\"26\":\"3.6 out of 5 stars\",\"27\":\"3.6 out of 5 stars\",\"28\":\"4.0 out of 5 stars\",\"29\":\"3.4 out of 5 stars\",\"30\":\"2.5 out of 5 stars\",\"31\":\"3.2 out of 5 stars\",\"32\":\"3.5 out of 5 stars\",\"33\":\"3.5 out of 5 stars\",\"34\":\"\",\"35\":\"4.1 out of 5 stars\",\"36\":\"3.6 out of 5 stars\",\"37\":\"4.0 out of 5 stars\",\"38\":\"3.3 out of 5 stars\",\"39\":\"3.8 out of 5 stars\",\"40\":\"4.0 out of 5 stars\",\"41\":\"3.1 out of 5 stars\",\"42\":\"3.2 out of 5 stars\",\"43\":\"3.6 out of 5 stars\",\"44\":\"3.2 out of 5 stars\",\"45\":\"3.1 out of 5 stars\",\"46\":\"3.7 out of 5 stars\",\"47\":\"5.0 out of 5 stars\",\"48\":\"3.6 out of 5 stars\",\"49\":\"3.9 out of 5 stars\",\"50\":\"4.0 out of 5 stars\",\"51\":\"3.1 out of 5 stars\",\"52\":\"3.1 out of 5 stars\",\"53\":\"3.8 out of 5 stars\",\"54\":\"2.9 out of 5 stars\",\"55\":\"4.0 out of 5 stars\",\"56\":\"4.5 out of 5 stars\",\"57\":\"3.7 out of 5 stars\",\"58\":\"4.1 out of 5 stars\",\"59\":\"3.7 out of 5 stars\"},\"Price\":{\"0\":\"799\",\"1\":\"899\",\"2\":\"1,299\",\"3\":\"699\",\"4\":\"239\",\"5\":\"376\",\"6\":\"599\",\"7\":\"790\",\"8\":\"379\",\"9\":\"399\",\"10\":\"386\",\"11\":\"369\",\"12\":\"99\",\"13\":\"197\",\"14\":\"708\",\"15\":\"690\",\"16\":\"449\",\"17\":\"395\",\"18\":\"399\",\"19\":\"180\",\"20\":\"299\",\"21\":\"999\",\"22\":\"699\",\"23\":\"1,994\",\"24\":\"364\",\"25\":\"385\",\"26\":\"549\",\"27\":\"399\",\"28\":\"389\",\"29\":\"657\",\"30\":\"399\",\"31\":\"349\",\"32\":\"249\",\"33\":\"299\",\"34\":\"\",\"35\":\"749\",\"36\":\"375\",\"37\":\"684\",\"38\":\"495\",\"39\":\"360\",\"40\":\"689\",\"41\":\"100\",\"42\":\"549\",\"43\":\"649\",\"44\":\"115\",\"45\":\"146\",\"46\":\"639\",\"47\":\"425\",\"48\":\"499\",\"49\":\"799\",\"50\":\"494\",\"51\":\"196\",\"52\":\"180\",\"53\":\"199\",\"54\":\"69\",\"55\":\"499\",\"56\":\"1,277\",\"57\":\"999\",\"58\":\"1,259\",\"59\":\"999\"}}\n"
     ]
    }
   ],
   "source": [
    "print(final)"
   ]
  },
  {
   "cell_type": "code",
   "execution_count": null,
   "metadata": {},
   "outputs": [],
   "source": []
  }
 ],
 "metadata": {
  "kernelspec": {
   "display_name": "Python 3",
   "language": "python",
   "name": "python3"
  },
  "language_info": {
   "codemirror_mode": {
    "name": "ipython",
    "version": 3
   },
   "file_extension": ".py",
   "mimetype": "text/x-python",
   "name": "python",
   "nbconvert_exporter": "python",
   "pygments_lexer": "ipython3",
   "version": "3.7.4"
  }
 },
 "nbformat": 4,
 "nbformat_minor": 2
}
